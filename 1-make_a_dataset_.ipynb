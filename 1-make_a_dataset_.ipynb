{
 "cells": [
  {
   "cell_type": "markdown",
   "metadata": {},
   "source": [
    "## 0. Set up preparation"
   ]
  },
  {
   "cell_type": "markdown",
   "metadata": {},
   "source": [
    "### Auto-Reload"
   ]
  },
  {
   "cell_type": "code",
   "execution_count": 1,
   "metadata": {},
   "outputs": [],
   "source": [
    "%load_ext autoreload\n",
    "%autoreload 2\n",
    "# 파이썬 코드를 실행하기 전에 항상 모든 모듈을 Reload"
   ]
  },
  {
   "cell_type": "markdown",
   "metadata": {},
   "source": [
    "### Add a module path"
   ]
  },
  {
   "cell_type": "code",
   "execution_count": 2,
   "metadata": {},
   "outputs": [],
   "source": [
    "import os\n",
    "import sys"
   ]
  },
  {
   "cell_type": "code",
   "execution_count": null,
   "metadata": {},
   "outputs": [
    {
     "name": "stdout",
     "output_type": "stream",
     "text": [
      "The current active folder is \"/mnt/4d055040/lab\".\n",
      "\n",
      "/mnt/4d055040/lab/Splitting-data\n"
     ]
    }
   ],
   "source": [
    "jupyter_run_dir = os.getcwd()\n",
    "print(f'The current active folder is \"{jupyter_run_dir}\".\\n')\n",
    "\n",
    "# module path\n",
    "module_dir = jupyter_run_dir + '/Splitting-data'\n",
    "\n",
    "sys.path.append(module_dir)\n",
    "print(sys.path[-1])"
   ]
  },
  {
   "cell_type": "markdown",
   "metadata": {},
   "source": [
    "### Maintain the experiment under the same conditions."
   ]
  },
  {
   "cell_type": "code",
   "execution_count": 4,
   "metadata": {},
   "outputs": [],
   "source": [
    "import random\n",
    "import numpy as np\n",
    "\n",
    "def seed(seed = 42):\n",
    "    random.seed(seed)\n",
    "    np.random.seed(seed)\n",
    "    os.environ[\"PYTHONHASHSEED\"] = str(seed)\n",
    "\n",
    "seed()"
   ]
  },
  {
   "cell_type": "markdown",
   "metadata": {},
   "source": [
    "## 1. Splitting"
   ]
  },
  {
   "cell_type": "code",
   "execution_count": null,
   "metadata": {},
   "outputs": [],
   "source": [
    "train_ratio = 0.6\n",
    "valid_ratio = 0.2\n",
    "test_ratio = 0.2"
   ]
  },
  {
   "cell_type": "markdown",
   "metadata": {},
   "source": [
    "### Loading an npz dataset.\n",
    "> Loading the npz file saved in `0-image_to_NPZ.ipynb`."
   ]
  },
  {
   "cell_type": "code",
   "execution_count": 5,
   "metadata": {},
   "outputs": [
    {
     "data": {
      "text/plain": [
       "(array(['TNBC_baseline', 'Normal'], dtype='<U13'),\n",
       " (array([0, 1]), array([609, 277])))"
      ]
     },
     "execution_count": 5,
     "metadata": {},
     "output_type": "execute_result"
    }
   ],
   "source": [
    "npz_path = '/mnt/7977asdasf/npz/img2npz.npz'\n",
    "with np.load(npz_path) as f:\n",
    "    class_names = f['class_names']\n",
    "    dataset = {'data':f['data'], 'label':f['label']}\n",
    "class_names, np.unique(dataset['label'], return_counts=True)"
   ]
  },
  {
   "cell_type": "markdown",
   "metadata": {},
   "source": [
    "### Splitting into a test dataset and a training dataset."
   ]
  },
  {
   "cell_type": "code",
   "execution_count": 6,
   "metadata": {},
   "outputs": [],
   "source": [
    "from utils.utils import make_a_splitset"
   ]
  },
  {
   "cell_type": "code",
   "execution_count": 8,
   "metadata": {},
   "outputs": [
    {
     "name": "stdout",
     "output_type": "stream",
     "text": [
      "Creating training, validation, and test datasets. -> test0.2.npz\n",
      "data shape : (708, 800, 400), (178, 800, 400)\n",
      "label shape : (708,), (178,)\n"
     ]
    }
   ],
   "source": [
    "x_train, x_test, y_train, y_test = make_a_splitset(dataset, class_names, splitset_size=test_ratio, save=False)"
   ]
  },
  {
   "cell_type": "markdown",
   "metadata": {},
   "source": [
    "### Make a Validation dataset.\n",
    "> Calculate the number of data points corresponding to the validation ratio based on the entire dataset.   \n",
    "> e.g., There are 100 data points in total, with 80 of them in the training dataset and 20 in the test dataset.    \n",
    "> &emsp;&emsp;You want to use 20% of the entire dataset as the validation dataset.    \n",
    "> &emsp;&emsp;To do this, you should recalculate the validation dataset size based on the training dataset size."
   ]
  },
  {
   "cell_type": "code",
   "execution_count": 9,
   "metadata": {},
   "outputs": [],
   "source": [
    "from utils.utils import make_a_validationset_static_test"
   ]
  },
  {
   "cell_type": "code",
   "execution_count": 32,
   "metadata": {},
   "outputs": [
    {
     "data": {
      "text/plain": [
       "177.2"
      ]
     },
     "execution_count": 32,
     "metadata": {},
     "output_type": "execute_result"
    }
   ],
   "source": [
    "valid_data_count = len(dataset['label']) * valid_ratio\n",
    "round(valid_data_count, 2)"
   ]
  },
  {
   "cell_type": "code",
   "execution_count": 28,
   "metadata": {},
   "outputs": [
    {
     "name": "stdout",
     "output_type": "stream",
     "text": [
      "train + val = 0.8\n",
      "val = 0.25\n",
      "data shape : (531, 800, 400), (177, 800, 400), (178, 800, 400)\n",
      "label shape : (531,), (177,), (178,)\n",
      "save... /mnt/7977asdasf/npz/train0.6val0.2test0.2.npz\n",
      "\n"
     ]
    }
   ],
   "source": [
    "save_dir = '/mnt/7977asdasf/npz'\n",
    "make_a_validationset_static_test(x_train, x_test, y_train, y_test, class_names, train_val_test_size=(train_ratio, valid_ratio, test_ratio), save_dir=save_dir)"
   ]
  }
 ],
 "metadata": {
  "kernelspec": {
   "display_name": "Python 3 (ipykernel)",
   "language": "python",
   "name": "python3"
  }
 },
 "nbformat": 4,
 "nbformat_minor": 2
}
