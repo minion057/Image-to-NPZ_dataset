{
 "cells": [
  {
   "cell_type": "markdown",
   "metadata": {},
   "source": [
    "## 0. Set up preparation"
   ]
  },
  {
   "cell_type": "markdown",
   "metadata": {},
   "source": [
    "### Auto-Reload"
   ]
  },
  {
   "cell_type": "code",
   "execution_count": 1,
   "metadata": {},
   "outputs": [],
   "source": [
    "%load_ext autoreload\n",
    "%autoreload 2\n",
    "# 파이썬 코드를 실행하기 전에 항상 모든 모듈을 Reload"
   ]
  },
  {
   "cell_type": "markdown",
   "metadata": {},
   "source": [
    "### Add a module path"
   ]
  },
  {
   "cell_type": "code",
   "execution_count": 2,
   "metadata": {},
   "outputs": [],
   "source": [
    "import os\n",
    "import sys"
   ]
  },
  {
   "cell_type": "code",
   "execution_count": null,
   "metadata": {},
   "outputs": [],
   "source": [
    "# This command returns the absolute path of the folder where Jupyter is running. If you want to use a different path instead of the Jupyter folder, please modify it.\n",
    "jupyter_run_dir = os.getcwd()\n",
    "print(f'The current active folder is \"{jupyter_run_dir}\".\\n')\n",
    "\n",
    "# module path\n",
    "module_dir = jupyter_run_dir + '/Image-to-NPZ_dataset'\n",
    "\n",
    "sys.path.append(module_dir)\n",
    "print(sys.path[-1])"
   ]
  },
  {
   "cell_type": "code",
   "execution_count": 4,
   "metadata": {},
   "outputs": [],
   "source": [
    "import random\n",
    "import numpy as np\n",
    "\n",
    "def seed(seed = 42):\n",
    "    random.seed(seed)\n",
    "    np.random.seed(seed)\n",
    "    os.environ[\"PYTHONHASHSEED\"] = str(seed)\n",
    "\n",
    "seed()"
   ]
  },
  {
   "cell_type": "markdown",
   "metadata": {},
   "source": [
    "## 1. Image to Numpy"
   ]
  },
  {
   "cell_type": "markdown",
   "metadata": {},
   "source": [
    "### Retrieve all image paths\n",
    "> If you want to remove a specific phrase from filenames, you can use the following function (rename_the_files).   \n",
    "> Please note that 'rename_the_files' takes a list of files and removes the 'remove_str' from all of them, then saves them again.   \n",
    "> So, set 'remove_str' to a character or string that exists in all the files.   "
   ]
  },
  {
   "cell_type": "code",
   "execution_count": 5,
   "metadata": {},
   "outputs": [],
   "source": [
    "from utils.utils import image_valid_check"
   ]
  },
  {
   "cell_type": "code",
   "execution_count": null,
   "metadata": {},
   "outputs": [
    {
     "name": "stdout",
     "output_type": "stream",
     "text": [
      "Here are the Validation Check Results.\n",
      "1. This file is not an image. -> count : 0\n",
      "\te.g.None\n",
      "2. This file is not in a format supported by TensorFlow OR Pytorch. -> count : 0\n",
      "\te.g.None\n",
      "3. This file is in a format supported by TensorFlow OR Pytorch. -> count : 746\n",
      "\tclass - Normal -> count : 480\n",
      "\t\te.g./mnt/7977asdasf/Normal/dde347148556b6fc8d5250064095d4ee.png\n",
      "\tclass - Pancreatic -> count : 266\n",
      "\t\te.g./mnt/7977asdasf/Pancreatic/3477a699f17d9260004472ef5810bccd.png)\n"
     ]
    }
   ],
   "source": [
    "data_dir = '/mnt/7977asdasf/'\n",
    "valid_reuslt = image_valid_check(data_dir, True)"
   ]
  },
  {
   "cell_type": "markdown",
   "metadata": {},
   "source": [
    "### Convert the searched images into NumPy data"
   ]
  },
  {
   "cell_type": "code",
   "execution_count": 10,
   "metadata": {},
   "outputs": [],
   "source": [
    "from utils.utils import make_a_numpy_dataset"
   ]
  },
  {
   "cell_type": "markdown",
   "metadata": {},
   "source": [
    "##### Option 1. single-processing"
   ]
  },
  {
   "cell_type": "code",
   "execution_count": null,
   "metadata": {},
   "outputs": [
    {
     "name": "stdout",
     "output_type": "stream",
     "text": [
      "Convert the images to numpy...\n",
      "Attempting to convert the 'Normal' class to a numpy array.\n",
      "100%|█████████████████████████████████████████████████████████████████████████████████| 480/480 [17:59<00:00,  2.25s/it]\n",
      "This Class is Normal. -> shape : (480, 800, 400, 4)\n",
      "\n",
      "Attempting to convert the 'Pancreatic' class to a numpy array.\n",
      "100%|█████████████████████████████████████████████████████████████████████████████████| 266/266 [09:15<00:00,  2.09s/it]\n",
      "This Class is Pancreatic. -> shape : (266, 800, 400, 4)\n",
      "\n",
      "\n",
      "Make a label...\n",
      "\n",
      "Make a dataset...\n",
      "\n",
      "0:30:30.385641\n"
     ]
    },
    {
     "data": {
      "text/plain": [
       "(['Normal', 'Pancreatic'], (array([0, 1]), array([480, 266])))"
      ]
     },
     "metadata": {},
     "output_type": "display_data"
    }
   ],
   "source": [
    "start = time.time()\n",
    "dataset, classes = make_a_numpy_dataset(valid_reuslt['image'], image_W=400, image_H=800)\n",
    "end = time.time()\n",
    "print(f'\\n Total time : {datetime.timedelta(seconds=(end-start))}')\n",
    "\n",
    "classes, np.unique(dataset['label'], return_counts=True)"
   ]
  },
  {
   "cell_type": "code",
   "execution_count": null,
   "metadata": {},
   "outputs": [
    {
     "data": {
      "text/plain": [
       "746"
      ]
     },
     "metadata": {},
     "output_type": "display_data"
    }
   ],
   "source": [
    "len(dataset['data'])"
   ]
  },
  {
   "cell_type": "markdown",
   "metadata": {},
   "source": [
    "##### Option 2. Multi-processing (Speeding up & Recommendation)"
   ]
  },
  {
   "cell_type": "code",
   "execution_count": null,
   "metadata": {},
   "outputs": [],
   "source": [
    "from concurrent.futures import ProcessPoolExecutor\n",
    "import multiprocessing"
   ]
  },
  {
   "cell_type": "code",
   "execution_count": null,
   "metadata": {},
   "outputs": [
    {
     "data": {
      "text/plain": [
       "12"
      ]
     },
     "metadata": {},
     "output_type": "display_data"
    }
   ],
   "source": [
    "# num_cores = multiprocessing.cpu_count() # 64 core -> Overhead...\n",
    "num_cores = 12\n",
    "num_cores"
   ]
  },
  {
   "cell_type": "code",
   "execution_count": null,
   "metadata": {},
   "outputs": [
    {
     "data": {
      "text/plain": [
       "(12,\n",
       " array([PosixPath('/mnt/797cf4e7-1dc1-4e40-ac32-d4f55c462ff4/aima/dataset/PACA/without-split/img-231018/Normal/dde347148556b6fc8d5250064095d4ee.png'),\n",
       "        PosixPath('/mnt/797cf4e7-1dc1-4e40-ac32-d4f55c462ff4/aima/dataset/PACA/without-split/img-231018/Normal/8d522569f563d1bcbfed83908dc11c11.png'),\n",
       "        PosixPath('/mnt/797cf4e7-1dc1-4e40-ac32-d4f55c462ff4/aima/dataset/PACA/without-split/img-231018/Normal/f50675dad6bae512b79569f0f5510dc4.png'),\n",
       "        PosixPath('/mnt/797cf4e7-1dc1-4e40-ac32-d4f55c462ff4/aima/dataset/PACA/without-split/img-231018/Normal/e40e0f05779235ea572a37fed2895625.png'),\n",
       "        PosixPath('/mnt/797cf4e7-1dc1-4e40-ac32-d4f55c462ff4/aima/dataset/PACA/without-split/img-231018/Normal/53bb57cf53b9f10d2729aa932a456a75.png')],\n",
       "       dtype=object),\n",
       " [PosixPath('/mnt/797cf4e7-1dc1-4e40-ac32-d4f55c462ff4/aima/dataset/PACA/without-split/img-231018/Normal/dde347148556b6fc8d5250064095d4ee.png'),\n",
       "  PosixPath('/mnt/797cf4e7-1dc1-4e40-ac32-d4f55c462ff4/aima/dataset/PACA/without-split/img-231018/Normal/8d522569f563d1bcbfed83908dc11c11.png'),\n",
       "  PosixPath('/mnt/797cf4e7-1dc1-4e40-ac32-d4f55c462ff4/aima/dataset/PACA/without-split/img-231018/Normal/f50675dad6bae512b79569f0f5510dc4.png'),\n",
       "  PosixPath('/mnt/797cf4e7-1dc1-4e40-ac32-d4f55c462ff4/aima/dataset/PACA/without-split/img-231018/Normal/e40e0f05779235ea572a37fed2895625.png'),\n",
       "  PosixPath('/mnt/797cf4e7-1dc1-4e40-ac32-d4f55c462ff4/aima/dataset/PACA/without-split/img-231018/Normal/53bb57cf53b9f10d2729aa932a456a75.png')])"
      ]
     },
     "metadata": {},
     "output_type": "display_data"
    }
   ],
   "source": [
    "splited_data_dict = {}\n",
    "for class_name, path_list in valid_reuslt['image'].items():\n",
    "    splited_data_dict[class_name] = np.array_split(path_list, num_cores)\n",
    "\n",
    "splited_data = [{} for _ in range(num_cores)]\n",
    "for class_name, splited_path_list in splited_data_dict.items():\n",
    "    for num_core, path_list in enumerate(splited_path_list):\n",
    "        splited_data[num_core][class_name] = path_list\n",
    "        \n",
    "len(splited_data), splited_data[0]['Normal'][:5], valid_reuslt['image']['Normal'][:5]"
   ]
  },
  {
   "cell_type": "code",
   "execution_count": null,
   "metadata": {},
   "outputs": [
    {
     "name": "stderr",
     "output_type": "stream",
     "text": [
      "100%|███████████████████████████████████████████████████████████████████████████████████| 40/40 [01:07<00:00,  1.69s/it]\n",
      "100%|███████████████████████████████████████████████████████████████████████████████████| 40/40 [01:07<00:00,  1.69s/it]\n",
      "100%|███████████████████████████████████████████████████████████████████████████████████| 40/40 [01:07<00:00,  1.70s/it]\n",
      "100%|███████████████████████████████████████████████████████████████████████████████████| 40/40 [01:07<00:00,  1.70s/it]\n",
      "100%|███████████████████████████████████████████████████████████████████████████████████| 40/40 [01:07<00:00,  1.70s/it]\n",
      "100%|███████████████████████████████████████████████████████████████████████████████████| 40/40 [01:07<00:00,  1.70s/it]\n",
      "100%|███████████████████████████████████████████████████████████████████████████████████| 40/40 [01:07<00:00,  1.70s/it]\n",
      "100%|███████████████████████████████████████████████████████████████████████████████████| 40/40 [01:07<00:00,  1.70s/it]\n",
      "100%|███████████████████████████████████████████████████████████████████████████████████| 40/40 [01:08<00:00,  1.70s/it]\n",
      "100%|███████████████████████████████████████████████████████████████████████████████████| 40/40 [01:08<00:00,  1.70s/it]\n",
      "100%|███████████████████████████████████████████████████████████████████████████████████| 40/40 [01:08<00:00,  1.70s/it]\n",
      "100%|███████████████████████████████████████████████████████████████████████████████████| 40/40 [01:08<00:00,  1.70s/it]\n",
      "100%|███████████████████████████████████████████████████████████████████████████████████| 22/22 [00:37<00:00,  1.69s/it]\n",
      "100%|███████████████████████████████████████████████████████████████████████████████████| 22/22 [00:37<00:00,  1.69s/it]\n",
      "100%|███████████████████████████████████████████████████████████████████████████████████| 22/22 [00:37<00:00,  1.69s/it]\n",
      "100%|███████████████████████████████████████████████████████████████████████████████████| 22/22 [00:37<00:00,  1.69s/it]\n",
      "100%|███████████████████████████████████████████████████████████████████████████████████| 22/22 [00:37<00:00,  1.69s/it]\n",
      "100%|███████████████████████████████████████████████████████████████████████████████████| 22/22 [00:37<00:00,  1.70s/it]\n",
      "100%|███████████████████████████████████████████████████████████████████████████████████| 22/22 [00:37<00:00,  1.69s/it]\n",
      "100%|███████████████████████████████████████████████████████████████████████████████████| 22/22 [00:37<00:00,  1.69s/it]\n",
      "100%|███████████████████████████████████████████████████████████████████████████████████| 22/22 [00:37<00:00,  1.69s/it]\n",
      "100%|███████████████████████████████████████████████████████████████████████████████████| 22/22 [00:37<00:00,  1.69s/it]\n",
      "100%|███████████████████████████████████████████████████████████████████████████████████| 23/23 [00:38<00:00,  1.69s/it]\n",
      "100%|███████████████████████████████████████████████████████████████████████████████████| 23/23 [00:38<00:00,  1.69s/it]\n"
     ]
    },
    {
     "name": "stdout",
     "output_type": "stream",
     "text": [
      "\n",
      " Total time : 0:01:47.497161\n"
     ]
    }
   ],
   "source": [
    "def pass_funcion(data):\n",
    "    return make_a_numpy_dataset(data, image_W=400, image_H=800, single_processing=False)\n",
    "\n",
    "start = time.time()\n",
    "pool = ProcessPoolExecutor(max_workers=num_cores)\n",
    "results = list(pool.map(pass_funcion, splited_data))\n",
    "end = time.time()\n",
    "print(f'\\n Total time : {datetime.timedelta(seconds=(end-start))}')"
   ]
  },
  {
   "cell_type": "code",
   "execution_count": null,
   "metadata": {},
   "outputs": [
    {
     "data": {
      "text/plain": [
       "(['Normal', 'Pancreatic'], (array([0, 1]), array([480, 266])), 746)"
      ]
     },
     "metadata": {},
     "output_type": "display_data"
    }
   ],
   "source": [
    "dataset, classes =  {k:v for k, v in result[0][0].items()}, []\n",
    "\n",
    "for r in results[1:]:\n",
    "    d, classes = r\n",
    "    # dataset = {k:np.concatenate((dataset[k], v), axis=0) for k, v in d.items()}\n",
    "    for k, v in d.items():\n",
    "        if type(v) == np.ndarray: dataset[k] = np.concatenate((dataset[k], v), axis=0)\n",
    "        elif type(v) == dict:\n",
    "            for class_name in classes:\n",
    "                dataset[k][class_name] = np.concatenate((dataset[k][class_name], v[class_name]), axis=0)\n",
    "        else: raise TypeError(f'The type returned is a dictionary or numpy ndarray.\\nCurrent type is {type(v)}')\n",
    "\n",
    "classes, np.unique(dataset['label'], return_counts=True), len(dataset['data'])"
   ]
  },
  {
   "cell_type": "markdown",
   "metadata": {},
   "source": [
    "### Check the data converted to numpy."
   ]
  },
  {
   "cell_type": "code",
   "execution_count": 16,
   "metadata": {},
   "outputs": [],
   "source": [
    "from utils.utils import show_data2img"
   ]
  },
  {
   "cell_type": "code",
   "execution_count": 34,
   "metadata": {},
   "outputs": [
    {
     "data": {
      "text/plain": [
       "([array([[227, 227, 227, ..., 227, 227, 227],\n",
       "         [227, 227, 227, ..., 227, 227, 227],\n",
       "         [227, 227, 227, ..., 227, 227, 227],\n",
       "         ...,\n",
       "         [227, 227, 227, ..., 227, 227, 227],\n",
       "         [227, 227, 227, ..., 227, 227, 227],\n",
       "         [227, 227, 227, ..., 227, 227, 227]], dtype=uint8),\n",
       "  0],\n",
       " [array([[229, 229, 229, ..., 229, 229, 229],\n",
       "         [229, 229, 229, ..., 229, 229, 229],\n",
       "         [229, 229, 229, ..., 229, 229, 229],\n",
       "         ...,\n",
       "         [229, 229, 229, ..., 229, 229, 229],\n",
       "         [229, 229, 229, ..., 229, 229, 229],\n",
       "         [229, 229, 229, ..., 229, 229, 229]], dtype=uint8),\n",
       "  1])"
      ]
     },
     "execution_count": 34,
     "metadata": {},
     "output_type": "execute_result"
    }
   ],
   "source": [
    "check_index = [3, -5, -1]\n",
    "check_items = []\n",
    "for index in check_index:\n",
    "    check_items.append([dataset['data'][index], dataset['label'][index]])\n",
    "check_items[0], check_items[-1]"
   ]
  },
  {
   "cell_type": "code",
   "execution_count": null,
   "metadata": {},
   "outputs": [
    {
     "name": "stdout",
     "output_type": "stream",
     "text": [
      "Image shape: (800, 400, 4)\n"
     ]
    },
    {
     "data": {
      "image/png": "[encoded data removed]",
      "text/plain": [
       "<Figure size 1000x1000 with 3 Axes>"
      ]
     },
     "metadata": {},
     "output_type": "display_data"
    }
   ],
   "source": [
    "show_data2img(check_items, classes)"
   ]
  },
  {
   "cell_type": "markdown",
   "metadata": {},
   "source": [
    "## 2. Saving\n",
    "> If you want to split and save the data directly, please refer to the `1-make_a_dataset.ipynb` file for instructions."
   ]
  },
  {
   "cell_type": "code",
   "execution_count": 37,
   "metadata": {},
   "outputs": [],
   "source": [
    "from utils.utils import save_numpy_dataset"
   ]
  },
  {
   "cell_type": "code",
   "execution_count": 44,
   "metadata": {},
   "outputs": [
    {
     "name": "stdout",
     "output_type": "stream",
     "text": [
      "save... /mnt/7977asdasf/npz/img2npz.npz\n"
     ]
    }
   ],
   "source": [
    "save_dir = '/mnt/7977asdasf/npz'\n",
    "save_numpy_dataset(dataset, classes, save_dir)"
   ]
  }
 ],
 "metadata": {
  "kernelspec": {
   "display_name": "Python 3 (ipykernel)",
   "language": "python",
   "name": "python3"
  }
 },
 "nbformat": 4,
 "nbformat_minor": 2
}
