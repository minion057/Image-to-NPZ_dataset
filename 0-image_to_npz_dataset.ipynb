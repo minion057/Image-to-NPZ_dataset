{
 "cells": [
  {
   "cell_type": "markdown",
   "metadata": {},
   "source": [
    "## 0. Set up preparation"
   ]
  },
  {
   "cell_type": "markdown",
   "metadata": {},
   "source": [
    "### Auto-Reload"
   ]
  },
  {
   "cell_type": "code",
   "execution_count": 1,
   "metadata": {},
   "outputs": [],
   "source": [
    "%load_ext autoreload\n",
    "%autoreload 2\n",
    "# 파이썬 코드를 실행하기 전에 항상 모든 모듈을 Reload"
   ]
  },
  {
   "cell_type": "markdown",
   "metadata": {},
   "source": [
    "### Add a module path"
   ]
  },
  {
   "cell_type": "code",
   "execution_count": 2,
   "metadata": {},
   "outputs": [],
   "source": [
    "import os\n",
    "import sys"
   ]
  },
  {
   "cell_type": "code",
   "execution_count": 43,
   "metadata": {},
   "outputs": [
    {
     "name": "stdout",
     "output_type": "stream",
     "text": [
      "The current active folder is \"/mnt/4d055040/lab\".\n",
      "\n",
      "/mnt/4d055040/lab/Splitting-data\n"
     ]
    }
   ],
   "source": [
    "jupyter_run_dir = os.getcwd()\n",
    "print(f'The current active folder is \"{jupyter_run_dir}\".\\n')\n",
    "\n",
    "# module path\n",
    "module_dir = jupyter_run_dir + '/Splitting-data'\n",
    "\n",
    "sys.path.append(module_dir)\n",
    "print(sys.path[-1])"
   ]
  },
  {
   "cell_type": "code",
   "execution_count": 4,
   "metadata": {},
   "outputs": [],
   "source": [
    "import random\n",
    "import numpy as np\n",
    "\n",
    "def seed(seed = 42):\n",
    "    random.seed(seed)\n",
    "    np.random.seed(seed)\n",
    "    os.environ[\"PYTHONHASHSEED\"] = str(seed)\n",
    "\n",
    "seed()"
   ]
  },
  {
   "cell_type": "markdown",
   "metadata": {},
   "source": [
    "## 1. Image to Numpy"
   ]
  },
  {
   "cell_type": "markdown",
   "metadata": {},
   "source": [
    "### Retrieve all image paths\n",
    "> If you want to remove a specific phrase from filenames, you can use the following function (rename_the_files).   \n",
    "> Please note that 'rename_the_files' takes a list of files and removes the 'remove_str' from all of them, then saves them again.   \n",
    "> So, set 'remove_str' to a character or string that exists in all the files.   "
   ]
  },
  {
   "cell_type": "code",
   "execution_count": 5,
   "metadata": {},
   "outputs": [],
   "source": [
    "from utils.utils import image_valid_check"
   ]
  },
  {
   "cell_type": "code",
   "execution_count": 12,
   "metadata": {},
   "outputs": [
    {
     "name": "stdout",
     "output_type": "stream",
     "text": [
      "Here are the Validation Check Results.\n",
      "1. This file is not an image. -> count : 0\n",
      "\te.g.None\n",
      "2. This file is not in a format supported by TensorFlow OR Pytorch. -> count : 0\n",
      "\te.g.None\n",
      "3. This file is in a format supported by TensorFlow OR Pytorch. -> count : 886\n",
      "\t class - TNBC_baseline -> count : 609\n",
      "\t\te.g./mnt/7977asdasf/TNBC_baseline/TNBC_baseline_00.png\n",
      "\t class - Normal -> count : 277\n",
      "\t\te.g./mnt/7977asdasf/Normal/Normal_00.png\n"
     ]
    }
   ],
   "source": [
    "data_dir = '/mnt/7977asdasf/'\n",
    "valid_reuslt = image_valid_check(data_dir, True)"
   ]
  },
  {
   "cell_type": "markdown",
   "metadata": {},
   "source": [
    "### Convert the searched images into NumPy data"
   ]
  },
  {
   "cell_type": "code",
   "execution_count": 10,
   "metadata": {},
   "outputs": [],
   "source": [
    "from utils.utils import make_a_numpy_dataset"
   ]
  },
  {
   "cell_type": "code",
   "execution_count": null,
   "metadata": {},
   "outputs": [
    {
     "name": "stdout",
     "output_type": "stream",
     "text": [
      "Convert the images to numpy...\n",
      "Attempting to convert the \"Normal\" class to a numpy array.\n"
     ]
    },
    {
     "name": "stderr",
     "output_type": "stream",
     "text": [
      "100%|█████████████████████████████████████████████████████████████████████████████████████████████████████████| 277/277 [00:00<00:00, 1559.04it/s]\n"
     ]
    },
    {
     "name": "stdout",
     "output_type": "stream",
     "text": [
      "This Class is Normal. -> shape : (277, 800, 400)\n",
      "\n",
      "Attempting to convert the \"TNBC_baseline\" class to a numpy array.\n"
     ]
    },
    {
     "name": "stderr",
     "output_type": "stream",
     "text": [
      "100%|█████████████████████████████████████████████████████████████████████████████████████████████████████████| 609/609 [00:00<00:00, 1669.03it/s]\n"
     ]
    },
    {
     "name": "stdout",
     "output_type": "stream",
     "text": [
      "This Class is TNBC_baseline. -> shape : (609, 800, 400)\n",
      "\n",
      "\n",
      "Make a label...\n",
      "\n",
      "Make a dataset...\n"
     ]
    },
    {
     "data": {
      "text/plain": [
       "(['Normal', 'TNBC_baseline'], (array([0, 1]), array([277, 609])))"
      ]
     },
     "metadata": {},
     "output_type": "display_data"
    }
   ],
   "source": [
    "dataset, classes = make_a_numpy_dataset(valid_reuslt['image'])\n",
    "classes, np.unique(dataset['label'], return_counts=True)"
   ]
  },
  {
   "cell_type": "markdown",
   "metadata": {},
   "source": [
    "### Check the data converted to numpy."
   ]
  },
  {
   "cell_type": "code",
   "execution_count": 16,
   "metadata": {},
   "outputs": [],
   "source": [
    "from utils.utils import show_data2img"
   ]
  },
  {
   "cell_type": "code",
   "execution_count": 34,
   "metadata": {},
   "outputs": [
    {
     "data": {
      "text/plain": [
       "([array([[227, 227, 227, ..., 227, 227, 227],\n",
       "         [227, 227, 227, ..., 227, 227, 227],\n",
       "         [227, 227, 227, ..., 227, 227, 227],\n",
       "         ...,\n",
       "         [227, 227, 227, ..., 227, 227, 227],\n",
       "         [227, 227, 227, ..., 227, 227, 227],\n",
       "         [227, 227, 227, ..., 227, 227, 227]], dtype=uint8),\n",
       "  0],\n",
       " [array([[229, 229, 229, ..., 229, 229, 229],\n",
       "         [229, 229, 229, ..., 229, 229, 229],\n",
       "         [229, 229, 229, ..., 229, 229, 229],\n",
       "         ...,\n",
       "         [229, 229, 229, ..., 229, 229, 229],\n",
       "         [229, 229, 229, ..., 229, 229, 229],\n",
       "         [229, 229, 229, ..., 229, 229, 229]], dtype=uint8),\n",
       "  1])"
      ]
     },
     "execution_count": 34,
     "metadata": {},
     "output_type": "execute_result"
    }
   ],
   "source": [
    "check_index = [3, -5, -1]\n",
    "check_items = []\n",
    "for index in check_index:\n",
    "    check_items.append([dataset['data'][index], dataset['label'][index]])\n",
    "check_items[0], check_items[-1]"
   ]
  },
  {
   "cell_type": "code",
   "execution_count": 35,
   "metadata": {},
   "outputs": [
    {
     "name": "stdout",
     "output_type": "stream",
     "text": [
      "Image shape: (800, 400)\n"
     ]
    },
    {
     "data": {
      "image/png": "[encoded data removed]",
      "text/plain": [
       "<Figure size 1000x1000 with 3 Axes>"
      ]
     },
     "metadata": {},
     "output_type": "display_data"
    }
   ],
   "source": [
    "show_data2img(check_items, classes)"
   ]
  },
  {
   "cell_type": "markdown",
   "metadata": {},
   "source": [
    "## 2. Saving\n",
    "> If you want to split and save the data directly, please refer to the `1-make_a_dataset.ipynb` file for instructions."
   ]
  },
  {
   "cell_type": "code",
   "execution_count": 37,
   "metadata": {},
   "outputs": [],
   "source": [
    "from utils.utils import save_numpy_dataset"
   ]
  },
  {
   "cell_type": "code",
   "execution_count": 44,
   "metadata": {},
   "outputs": [
    {
     "name": "stdout",
     "output_type": "stream",
     "text": [
      "save... /mnt/7977asdasf/npz/img2npz.npz\n"
     ]
    }
   ],
   "source": [
    "save_dir = '/mnt/7977asdasf/npz'\n",
    "save_numpy_dataset(dataset, classes, save_dir)"
   ]
  }
 ],
 "metadata": {
  "kernelspec": {
   "display_name": "Python 3 (ipykernel)",
   "language": "python",
   "name": "python3"
  },
  "language_info": {
   "codemirror_mode": {
    "name": "ipython",
    "version": 3
   },
   "file_extension": ".py",
   "mimetype": "text/x-python",
   "name": "python",
   "nbconvert_exporter": "python",
   "pygments_lexer": "ipython3",
   "version": "3.10.12"
  }
 },
 "nbformat": 4,
 "nbformat_minor": 2
}
